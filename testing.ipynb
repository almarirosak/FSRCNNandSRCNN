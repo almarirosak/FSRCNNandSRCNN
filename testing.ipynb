{
 "cells": [
  {
   "cell_type": "code",
   "execution_count": null,
   "metadata": {},
   "outputs": [
    {
     "name": "stdout",
     "output_type": "stream",
     "text": [
      "Train size: 160, Validation size: 20, Test size: 21\n",
      "Number of images in Training set: 160\n",
      "Number of images in Validation set: 20\n",
      "Number of images in Test set: 21\n",
      "Number of batches in Training set: 40\n",
      "Number of batches in Validation set: 5\n",
      "Number of batches in Test set: 6\n",
      "cuda\n"
     ]
    },
    {
     "name": "stderr",
     "output_type": "stream",
     "text": [
      "Training:   8%|▊         | 3/40 [00:03<00:37,  1.01s/it]"
     ]
    }
   ],
   "source": [
    "import torch\n",
    "import torch.nn.functional as F\n",
    "import numpy as np\n",
    "from FSRCNN_model import FSRCNN_3D "
   ]
  },
  {
   "cell_type": "code",
   "execution_count": null,
   "metadata": {},
   "outputs": [],
   "source": [
    "model_path = 'models/FSRCNN3D_epoch_100.pth'  # Replace XX with the epoch you want to test\n"
   ]
  },
  {
   "cell_type": "code",
   "execution_count": null,
   "metadata": {},
   "outputs": [],
   "source": [
    "model = FSRCNN_3D()  # Replace with the actual initialization of your model\n",
    "model.load_state_dict(torch.load(model_path))\n",
    "model.eval() "
   ]
  },
  {
   "cell_type": "code",
   "execution_count": null,
   "metadata": {},
   "outputs": [],
   "source": [
    "test_volume = np.load('imagesTr')  # Replace with the path to your test volume\n",
    "test_volume = torch.from_numpy(test_volume).unsqueeze(0).unsqueeze(0)  # Add batch and channel dims\n",
    "test_volume = test_volume.float() "
   ]
  },
  {
   "cell_type": "code",
   "execution_count": null,
   "metadata": {},
   "outputs": [],
   "source": [
    "with torch.no_grad():\n",
    "    output_volume = model(test_volume)"
   ]
  },
  {
   "cell_type": "code",
   "execution_count": null,
   "metadata": {},
   "outputs": [],
   "source": [
    "output_volume = output_volume.squeeze().numpy()"
   ]
  },
  {
   "cell_type": "code",
   "execution_count": null,
   "metadata": {},
   "outputs": [],
   "source": [
    "np.save('path/to/output_volume.npy', output_volume)  # Save the output volume as a .npy file\n",
    "print(\"Inference completed. Output saved.\")"
   ]
  }
 ],
 "metadata": {
  "kernelspec": {
   "display_name": "venv",
   "language": "python",
   "name": "python3"
  },
  "language_info": {
   "codemirror_mode": {
    "name": "ipython",
    "version": 3
   },
   "file_extension": ".py",
   "mimetype": "text/x-python",
   "name": "python",
   "nbconvert_exporter": "python",
   "pygments_lexer": "ipython3",
   "version": "3.12.3"
  }
 },
 "nbformat": 4,
 "nbformat_minor": 2
}
