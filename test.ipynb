{
 "cells": [
  {
   "cell_type": "code",
   "execution_count": 1,
   "metadata": {},
   "outputs": [
    {
     "name": "stdout",
     "output_type": "stream",
     "text": [
      "hlelloo\n"
     ]
    }
   ],
   "source": [
    "print(\"hlelloo\")"
   ]
  },
  {
   "cell_type": "code",
   "execution_count": null,
   "metadata": {},
   "outputs": [],
   "source": [
    "from torch import nn\n",
    "import torch\n",
    "import monai\n",
    "import numpy as np\n",
    "import matplotlib.pyplot as plt\n",
    "\n"
   ]
  },
  {
   "cell_type": "code",
   "execution_count": null,
   "metadata": {},
   "outputs": [],
   "source": [
    "class Sobel(nn.Module):\n",
    "    def __init__(self):\n",
    "        super().__init__()\n",
    "        self.filter = nn.Conv3d(in_channels=1, out_channels=3, kernel_size=3, stride=1, padding=1, padding_mode=\"reflect\", bias=False)\n",
    "\n",
    "        # defining three 3x3x3 sobel operators for x, y, z direction\n",
    "        Gx = torch.tensor([\n",
    "            [\n",
    "                [1.0, 2.0, 1.0],\n",
    "                [2.0, 4.0, 2.0],\n",
    "                [1.0, 2.0, 1.0]\n",
    "            ],\n",
    "            [\n",
    "                [0.0, 0.0, 0.0],\n",
    "                [0.0, 0.0, 0.0],\n",
    "                [0.0, 0.0, 0.0]\n",
    "            ],\n",
    "            [\n",
    "                [-1.0, -2.0, -1.0],\n",
    "                [-2.0, -4.0, -2.0],\n",
    "                [-1.0, -2.0, -1.0]\n",
    "            ]\n",
    "        ])\n",
    "        Gy = torch.tensor([\n",
    "            [\n",
    "                [1.0, 0.0, -1.0],\n",
    "                [2.0, 0.0, -2.0],\n",
    "                [1.0, 0.0, -1.0]\n",
    "            ],\n",
    "            [\n",
    "                [2.0, 0.0, -2.0],\n",
    "                [4.0, 0.0, -4.0],\n",
    "                [2.0, 0.0, -2.0]\n",
    "            ],\n",
    "            [\n",
    "                [1.0, 0.0, -1.0],\n",
    "                [2.0, 0.0, -2.0],\n",
    "                [1.0, 0.0, -1.0]\n",
    "            ]\n",
    "        ])\n",
    "        Gz = torch.tensor([\n",
    "            [\n",
    "                [1.0, 2.0, 1.0],\n",
    "                [0.0, 0.0, 0.0],\n",
    "                [-1.0, -2.0, -1.0]\n",
    "            ],\n",
    "            [\n",
    "                [2.0, 4.0, 2.0],\n",
    "                [0.0, 0.0, 0.0],\n",
    "                [-2.0, -4.0, -2.0]\n",
    "            ],\n",
    "            [\n",
    "                [1.0, 2.0, 1.0],\n",
    "                [0.0, 0.0, 0.0],\n",
    "                [-1.0, -2.0, -1.0]\n",
    "            ]\n",
    "        ])\n",
    "\n",
    "        # combine sobel kernels and hand this parameter over to nn.Conv3d() function\n",
    "        G = torch.cat([Gx.unsqueeze(0), Gy.unsqueeze(0), Gz.unsqueeze(0)], 0)\n",
    "        G = G.unsqueeze(1)\n",
    "        self.filter.weight = nn.Parameter(G, requires_grad=False)\n",
    "\n",
    "    def forward(self, img):\n",
    "        # calculate pixel values\n",
    "        x = self.filter(img)\n",
    "        x = torch.mul(x, x)\n",
    "        x = torch.sum(x, dim=0, keepdim=True)\n",
    "        x = torch.sqrt(x)\n",
    "        return x"
   ]
  },
  {
   "cell_type": "code",
   "execution_count": null,
   "metadata": {},
   "outputs": [
    {
     "data": {
      "text/plain": [
       "DataParallel(\n",
       "  (module): SRCNN3D(\n",
       "    (conv1): Conv3d(1, 64, kernel_size=(9, 9, 9), stride=(1, 1, 1), padding=(4, 4, 4))\n",
       "    (conv2): Conv3d(64, 32, kernel_size=(5, 5, 5), stride=(1, 1, 1), padding=(2, 2, 2))\n",
       "    (conv3): Conv3d(32, 1, kernel_size=(5, 5, 5), stride=(1, 1, 1), padding=(2, 2, 2))\n",
       "    (dropout): Dropout(p=0.5, inplace=False)\n",
       "  )\n",
       ")"
      ]
     },
     "execution_count": 10,
     "metadata": {},
     "output_type": "execute_result"
    }
   ],
   "source": [
    "img_path = r\".\\Crete_no7_20um_1821x1671x1455_16bit_trans_376.nii.gz\"\n",
    "load_image = monai.transforms.LoadImage(dtype=np.float32, ensure_channel_first=True)\n",
    "img = load_image(img_path)\n",
    "print(img.shape)"
   ]
  },
  {
   "cell_type": "code",
   "execution_count": null,
   "metadata": {},
   "outputs": [],
   "source": [
    "# extract slices from original data\n",
    "arr_orig = np.array(img[0])\n",
    "middle_slice_orig_x = arr_orig[int(len(arr_orig) / 2), :, :]\n",
    "middle_slice_orig_y = arr_orig[:, int(len(arr_orig) / 2), :]\n",
    "middle_slice_orig_z = arr_orig[:, :, int(len(arr_orig) / 2)]\n",
    "\n",
    "# create sobel gradient volume\n",
    "img_sobel = Sobel().forward(img)\n",
    "arr_sobel = np.array(img_sobel[0])\n",
    "middle_slice_sobel_x = arr_sobel[int(len(arr_sobel) / 2), :, :]\n",
    "middle_slice_sobel_y = arr_sobel[:, int(len(arr_sobel) / 2), :]\n",
    "middle_slice_sobel_z = arr_sobel[:, :, int(len(arr_sobel) / 2)]\n",
    "\n",
    "# visualize\n",
    "fig, axes = plt.subplots(3, 2, figsize=(10, 10))\n",
    "axes[0, 0].imshow(middle_slice_orig_x, cmap=\"gray\")\n",
    "axes[0, 0].set_title(\"Original Slices (x, y, z view)\")\n",
    "axes[0, 1].imshow(middle_slice_sobel_x, cmap=\"gray\")\n",
    "axes[0, 1].set_title(\"Sobel Slices (x, y, z view)\")\n",
    "axes[1, 0].imshow(middle_slice_orig_y, cmap=\"gray\")\n",
    "axes[1, 1].imshow(middle_slice_sobel_y, cmap=\"gray\")\n",
    "axes[2, 0].imshow(middle_slice_orig_z, cmap=\"gray\")\n",
    "axes[2, 1].imshow(middle_slice_sobel_z, cmap=\"gray\")"
   ]
  }
 ],
 "metadata": {
  "kernelspec": {
   "display_name": "venv",
   "language": "python",
   "name": "python3"
  },
  "language_info": {
   "codemirror_mode": {
    "name": "ipython",
    "version": 3
   },
   "file_extension": ".py",
   "mimetype": "text/x-python",
   "name": "python",
   "nbconvert_exporter": "python",
   "pygments_lexer": "ipython3",
   "version": "3.12.3"
  }
 },
 "nbformat": 4,
 "nbformat_minor": 2
}
